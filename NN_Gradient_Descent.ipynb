{
  "nbformat": 4,
  "nbformat_minor": 0,
  "metadata": {
    "colab": {
      "provenance": []
    },
    "kernelspec": {
      "name": "python3",
      "display_name": "Python 3"
    },
    "language_info": {
      "name": "python"
    }
  },
  "cells": [
    {
      "cell_type": "markdown",
      "source": [
        "### Breaking up tanh and exercising more operations\n",
        "- tanh developed as a single function because we know the derivative.\n",
        "- tanh can be broken down and express it as a function of x\n",
        "- implement more operations: exponentiation, addition, division etc"
      ],
      "metadata": {
        "id": "JnVcoYNq6Fm6"
      }
    },
    {
      "cell_type": "code",
      "execution_count": 1,
      "metadata": {
        "id": "AwF-XmQ-57t_"
      },
      "outputs": [],
      "source": [
        "import math\n",
        "import numpy as np\n",
        "import matplotlib.pyplot as plt\n",
        "%matplotlib inline"
      ]
    },
    {
      "cell_type": "code",
      "source": [
        "class Value:\n",
        "\n",
        "  def __init__(self,data, _children=(), _operation='', label=''):\n",
        "    self.data = data\n",
        "    self.grad = 0.0 #gradient initialized as 0\n",
        "    self._backward = lambda : None\n",
        "    self._prev = set(_children) #empty set\n",
        "    self._operation = _operation\n",
        "    self.label = label\n",
        "\n",
        "  def __repr__(self):\n",
        "    return f\"Value(data={self.data})\"\n",
        "\n",
        "  def __add__(self, other):\n",
        "    other = other if isinstance(other, Value) else Value(other)\n",
        "    out = Value(self.data + other.data, (self,other), '+')\n",
        "\n",
        "    def _backward():\n",
        "      self.grad += 1.0 * out.grad\n",
        "      other.grad += 1.0 * out.grad\n",
        "    out._backward = _backward\n",
        "\n",
        "    return out\n",
        "\n",
        "  def __mul__(self,other):\n",
        "    other = other if isinstance(other, Value) else Value(other)\n",
        "    out = Value(self.data * other.data, (self, other), '*')\n",
        "\n",
        "    def _backward():\n",
        "      self.grad = other.data * out.grad\n",
        "      other.grad = self.data * out.grad\n",
        "    out._backward = _backward\n",
        "\n",
        "    return out\n",
        "\n",
        "  def __pow__(self, other):\n",
        "    assert isinstance(other, (int, float)), \"only support int/float powers for now\"\n",
        "    out = Value(self.data ** other, (self,), f'**{other}')\n",
        "\n",
        "    def _backward():\n",
        "      self.grad += other * (self.data ** (other - 1)) * out.grad #chain rule\n",
        "    out._backward = _backward\n",
        "    return out\n",
        "\n",
        "  def __radd__(self, other): #other + self\n",
        "    return self + other\n",
        "\n",
        "  def __rmul__(self, other): #other * self\n",
        "    return self * other\n",
        "\n",
        "  def __truediv__(self, other): #self/other\n",
        "    return self * other**-1\n",
        "\n",
        "  def __neg__(self): #-self\n",
        "    return self * -1\n",
        "\n",
        "  def __sub__(self, other): #self - other\n",
        "    return self + (-other)\n",
        "\n",
        "  def tanh(self):\n",
        "    x = self.data\n",
        "    t = (math.exp(2*x)-1)/(math.exp(2*x)+1)\n",
        "    out = Value(t, (self, ), 'tanh')\n",
        "\n",
        "    def _backward():\n",
        "      self.grad += (1 - t**2) * out.grad\n",
        "    out._backward = _backward\n",
        "    return out\n",
        "\n",
        "  def exp(self):\n",
        "    x = self.data\n",
        "    out = Value(math.exp(x), (self, ), 'exp')\n",
        "\n",
        "    def _backward():\n",
        "      self.grad = out.data * out.grad\n",
        "    out._backward = _backward\n",
        "    return out\n",
        "\n",
        "\n",
        "  def backward(self):\n",
        "    # implement topological sort\n",
        "    top_sort = []\n",
        "    visited = set()\n",
        "\n",
        "    def build_top_sort(v):\n",
        "      if v is not visited:\n",
        "        visited.add(v)\n",
        "        for child in v._prev:\n",
        "          build_top_sort(child)\n",
        "        top_sort.append(v) #add node to list only after children are processed\n",
        "    build_top_sort(self)\n",
        "\n",
        "    self.grad = 1.0\n",
        "    for node in reversed(top_sort):\n",
        "      node._backward()"
      ],
      "metadata": {
        "id": "wZW0_grm6NWq"
      },
      "execution_count": 2,
      "outputs": []
    },
    {
      "cell_type": "code",
      "source": [
        "from graphviz import Digraph\n",
        "\n",
        "def trace(root):\n",
        "  # builds set of nodes and edges in a graph\n",
        "  nodes, edges = set(), set()\n",
        "  def build(v):\n",
        "    if v not in nodes:\n",
        "      nodes.add(v)\n",
        "      for child in v._prev:\n",
        "        edges.add((child, v))\n",
        "        build(child)\n",
        "  build(root)\n",
        "  return nodes, edges\n",
        "\n",
        "def draw_dot(root):\n",
        "  dot = Digraph(format='svg', graph_attr={'rankdir': 'LR'}) #LR = left to right\n",
        "  nodes, edges = trace(root)\n",
        "  for n in nodes:\n",
        "    uid = str(id(n))\n",
        "    # for any value in the graph, create rectangular ('record') node\n",
        "    dot.node (name = uid, label = \"{%s | data %.4f | grad %.4f }\" % (n.label, n.data, n.grad), shape='record')\n",
        "\n",
        "    if n._operation:\n",
        "      # if this value is a result of operation, create operation node\n",
        "      dot.node(name = uid + n._operation, label=n._operation)\n",
        "      # and connect this node to it\n",
        "      dot.edge(uid + n._operation, uid)\n",
        "\n",
        "  for n1, n2, in edges:\n",
        "    # connect n1 to the operation node of n2\n",
        "    dot.edge(str(id(n1)), str(id(n2)) + n2._operation)\n",
        "\n",
        "  return dot\n"
      ],
      "metadata": {
        "id": "1FYhJD_I6Pop"
      },
      "execution_count": 3,
      "outputs": []
    },
    {
      "cell_type": "code",
      "source": [
        "# inputs: x1,x2\n",
        "x1 = Value(2.0, label = 'x1')\n",
        "x2 = Value(0.0, label = 'x2')\n",
        "\n",
        "# weights\n",
        "w1 = Value(-3.0, label = 'w1')\n",
        "w2 = Value(1.0, label = 'w2')\n",
        "\n",
        "# bias\n",
        "b = Value(6.8813735870195432, label = 'b')\n",
        "\n",
        "# x1w1, x2w2\n",
        "x1w1 = x1 * w1; x1w1.label = 'x1w1'\n",
        "x2w2 = x2 * w2; x2w2.label = 'x2w2'\n",
        "x1w1_x2w2 = x1w1 + x2w2; x1w1_x2w2.label = 'x1w1 + x2w2'\n",
        "\n",
        "# n : without activation\n",
        "n = x1w1_x2w2 + b; n.label='n'\n",
        "\n",
        "# actiavtion function\n",
        "o = n.tanh(); o.label='o'"
      ],
      "metadata": {
        "id": "lQPjJhE16WSd"
      },
      "execution_count": 4,
      "outputs": []
    },
    {
      "cell_type": "code",
      "source": [
        "o.backward()\n",
        "draw_dot(o)"
      ],
      "metadata": {
        "colab": {
          "base_uri": "https://localhost:8080/",
          "height": 321
        },
        "id": "3bg-uo8H6ZZo",
        "outputId": "e0ff68bd-e103-4bc3-8881-711d0670476b"
      },
      "execution_count": 5,
      "outputs": [
        {
          "output_type": "execute_result",
          "data": {
            "image/svg+xml": "<?xml version=\"1.0\" encoding=\"UTF-8\" standalone=\"no\"?>\n<!DOCTYPE svg PUBLIC \"-//W3C//DTD SVG 1.1//EN\"\n \"http://www.w3.org/Graphics/SVG/1.1/DTD/svg11.dtd\">\n<!-- Generated by graphviz version 2.43.0 (0)\n -->\n<!-- Title: %3 Pages: 1 -->\n<svg width=\"1555pt\" height=\"210pt\"\n viewBox=\"0.00 0.00 1555.00 210.00\" xmlns=\"http://www.w3.org/2000/svg\" xmlns:xlink=\"http://www.w3.org/1999/xlink\">\n<g id=\"graph0\" class=\"graph\" transform=\"scale(1 1) rotate(0) translate(4 206)\">\n<title>%3</title>\n<polygon fill=\"white\" stroke=\"transparent\" points=\"-4,4 -4,-206 1551,-206 1551,4 -4,4\"/>\n<!-- 138500965737440 -->\n<g id=\"node1\" class=\"node\">\n<title>138500965737440</title>\n<polygon fill=\"none\" stroke=\"black\" points=\"703,-137.5 703,-173.5 888,-173.5 888,-137.5 703,-137.5\"/>\n<text text-anchor=\"middle\" x=\"714.5\" y=\"-151.8\" font-family=\"Times,serif\" font-size=\"14.00\">b</text>\n<polyline fill=\"none\" stroke=\"black\" points=\"726,-137.5 726,-173.5 \"/>\n<text text-anchor=\"middle\" x=\"766\" y=\"-151.8\" font-family=\"Times,serif\" font-size=\"14.00\">data 6.8814</text>\n<polyline fill=\"none\" stroke=\"black\" points=\"806,-137.5 806,-173.5 \"/>\n<text text-anchor=\"middle\" x=\"847\" y=\"-151.8\" font-family=\"Times,serif\" font-size=\"14.00\">grad 0.5000</text>\n</g>\n<!-- 138500965737680+ -->\n<g id=\"node5\" class=\"node\">\n<title>138500965737680+</title>\n<ellipse fill=\"none\" stroke=\"black\" cx=\"988\" cy=\"-127.5\" rx=\"27\" ry=\"18\"/>\n<text text-anchor=\"middle\" x=\"988\" y=\"-123.8\" font-family=\"Times,serif\" font-size=\"14.00\">+</text>\n</g>\n<!-- 138500965737440&#45;&gt;138500965737680+ -->\n<g id=\"edge14\" class=\"edge\">\n<title>138500965737440&#45;&gt;138500965737680+</title>\n<path fill=\"none\" stroke=\"black\" d=\"M888.12,-142.03C910.59,-138.73 933.33,-135.39 951.33,-132.74\"/>\n<polygon fill=\"black\" stroke=\"black\" points=\"951.96,-136.19 961.34,-131.27 950.94,-129.26 951.96,-136.19\"/>\n</g>\n<!-- 138500965732496 -->\n<g id=\"node2\" class=\"node\">\n<title>138500965732496</title>\n<polygon fill=\"none\" stroke=\"black\" points=\"2,-55.5 2,-91.5 198,-91.5 198,-55.5 2,-55.5\"/>\n<text text-anchor=\"middle\" x=\"17\" y=\"-69.8\" font-family=\"Times,serif\" font-size=\"14.00\">x1</text>\n<polyline fill=\"none\" stroke=\"black\" points=\"32,-55.5 32,-91.5 \"/>\n<text text-anchor=\"middle\" x=\"72\" y=\"-69.8\" font-family=\"Times,serif\" font-size=\"14.00\">data 2.0000</text>\n<polyline fill=\"none\" stroke=\"black\" points=\"112,-55.5 112,-91.5 \"/>\n<text text-anchor=\"middle\" x=\"155\" y=\"-69.8\" font-family=\"Times,serif\" font-size=\"14.00\">grad &#45;1.5000</text>\n</g>\n<!-- 138500965734368* -->\n<g id=\"node15\" class=\"node\">\n<title>138500965734368*</title>\n<ellipse fill=\"none\" stroke=\"black\" cx=\"263\" cy=\"-73.5\" rx=\"27\" ry=\"18\"/>\n<text text-anchor=\"middle\" x=\"263\" y=\"-69.8\" font-family=\"Times,serif\" font-size=\"14.00\">*</text>\n</g>\n<!-- 138500965732496&#45;&gt;138500965734368* -->\n<g id=\"edge6\" class=\"edge\">\n<title>138500965732496&#45;&gt;138500965734368*</title>\n<path fill=\"none\" stroke=\"black\" d=\"M198.37,-73.5C208.05,-73.5 217.4,-73.5 225.8,-73.5\"/>\n<polygon fill=\"black\" stroke=\"black\" points=\"225.91,-77 235.91,-73.5 225.91,-70 225.91,-77\"/>\n</g>\n<!-- 138500965741232 -->\n<g id=\"node3\" class=\"node\">\n<title>138500965741232</title>\n<polygon fill=\"none\" stroke=\"black\" points=\"2.5,-165.5 2.5,-201.5 197.5,-201.5 197.5,-165.5 2.5,-165.5\"/>\n<text text-anchor=\"middle\" x=\"19\" y=\"-179.8\" font-family=\"Times,serif\" font-size=\"14.00\">w2</text>\n<polyline fill=\"none\" stroke=\"black\" points=\"35.5,-165.5 35.5,-201.5 \"/>\n<text text-anchor=\"middle\" x=\"75.5\" y=\"-179.8\" font-family=\"Times,serif\" font-size=\"14.00\">data 1.0000</text>\n<polyline fill=\"none\" stroke=\"black\" points=\"115.5,-165.5 115.5,-201.5 \"/>\n<text text-anchor=\"middle\" x=\"156.5\" y=\"-179.8\" font-family=\"Times,serif\" font-size=\"14.00\">grad 0.0000</text>\n</g>\n<!-- 138500965737248* -->\n<g id=\"node10\" class=\"node\">\n<title>138500965737248*</title>\n<ellipse fill=\"none\" stroke=\"black\" cx=\"263\" cy=\"-128.5\" rx=\"27\" ry=\"18\"/>\n<text text-anchor=\"middle\" x=\"263\" y=\"-124.8\" font-family=\"Times,serif\" font-size=\"14.00\">*</text>\n</g>\n<!-- 138500965741232&#45;&gt;138500965737248* -->\n<g id=\"edge10\" class=\"edge\">\n<title>138500965741232&#45;&gt;138500965737248*</title>\n<path fill=\"none\" stroke=\"black\" d=\"M172.53,-165.44C181.84,-162.67 191.2,-159.67 200,-156.5 210.53,-152.71 221.75,-147.9 231.72,-143.33\"/>\n<polygon fill=\"black\" stroke=\"black\" points=\"233.25,-146.48 240.82,-139.07 230.28,-140.14 233.25,-146.48\"/>\n</g>\n<!-- 138500965737680 -->\n<g id=\"node4\" class=\"node\">\n<title>138500965737680</title>\n<polygon fill=\"none\" stroke=\"black\" points=\"1051,-109.5 1051,-145.5 1236,-145.5 1236,-109.5 1051,-109.5\"/>\n<text text-anchor=\"middle\" x=\"1062.5\" y=\"-123.8\" font-family=\"Times,serif\" font-size=\"14.00\">n</text>\n<polyline fill=\"none\" stroke=\"black\" points=\"1074,-109.5 1074,-145.5 \"/>\n<text text-anchor=\"middle\" x=\"1114\" y=\"-123.8\" font-family=\"Times,serif\" font-size=\"14.00\">data 0.8814</text>\n<polyline fill=\"none\" stroke=\"black\" points=\"1154,-109.5 1154,-145.5 \"/>\n<text text-anchor=\"middle\" x=\"1195\" y=\"-123.8\" font-family=\"Times,serif\" font-size=\"14.00\">grad 0.5000</text>\n</g>\n<!-- 138500967052720tanh -->\n<g id=\"node13\" class=\"node\">\n<title>138500967052720tanh</title>\n<ellipse fill=\"none\" stroke=\"black\" cx=\"1299\" cy=\"-127.5\" rx=\"27\" ry=\"18\"/>\n<text text-anchor=\"middle\" x=\"1299\" y=\"-123.8\" font-family=\"Times,serif\" font-size=\"14.00\">tanh</text>\n</g>\n<!-- 138500965737680&#45;&gt;138500967052720tanh -->\n<g id=\"edge11\" class=\"edge\">\n<title>138500965737680&#45;&gt;138500967052720tanh</title>\n<path fill=\"none\" stroke=\"black\" d=\"M1236.01,-127.5C1245.01,-127.5 1253.74,-127.5 1261.66,-127.5\"/>\n<polygon fill=\"black\" stroke=\"black\" points=\"1261.91,-131 1271.91,-127.5 1261.91,-124 1261.91,-131\"/>\n</g>\n<!-- 138500965737680+&#45;&gt;138500965737680 -->\n<g id=\"edge1\" class=\"edge\">\n<title>138500965737680+&#45;&gt;138500965737680</title>\n<path fill=\"none\" stroke=\"black\" d=\"M1015.04,-127.5C1022.58,-127.5 1031.3,-127.5 1040.57,-127.5\"/>\n<polygon fill=\"black\" stroke=\"black\" points=\"1040.81,-131 1050.81,-127.5 1040.81,-124 1040.81,-131\"/>\n</g>\n<!-- 138500965741280 -->\n<g id=\"node6\" class=\"node\">\n<title>138500965741280</title>\n<polygon fill=\"none\" stroke=\"black\" points=\"0,-0.5 0,-36.5 200,-36.5 200,-0.5 0,-0.5\"/>\n<text text-anchor=\"middle\" x=\"16.5\" y=\"-14.8\" font-family=\"Times,serif\" font-size=\"14.00\">w1</text>\n<polyline fill=\"none\" stroke=\"black\" points=\"33,-0.5 33,-36.5 \"/>\n<text text-anchor=\"middle\" x=\"75.5\" y=\"-14.8\" font-family=\"Times,serif\" font-size=\"14.00\">data &#45;3.0000</text>\n<polyline fill=\"none\" stroke=\"black\" points=\"118,-0.5 118,-36.5 \"/>\n<text text-anchor=\"middle\" x=\"159\" y=\"-14.8\" font-family=\"Times,serif\" font-size=\"14.00\">grad 1.0000</text>\n</g>\n<!-- 138500965741280&#45;&gt;138500965734368* -->\n<g id=\"edge7\" class=\"edge\">\n<title>138500965741280&#45;&gt;138500965734368*</title>\n<path fill=\"none\" stroke=\"black\" d=\"M169.28,-36.5C179.65,-39.61 190.16,-42.98 200,-46.5 210.28,-50.17 221.28,-54.74 231.11,-59.07\"/>\n<polygon fill=\"black\" stroke=\"black\" points=\"229.93,-62.37 240.48,-63.27 232.79,-55.99 229.93,-62.37\"/>\n</g>\n<!-- 138500965742336 -->\n<g id=\"node7\" class=\"node\">\n<title>138500965742336</title>\n<polygon fill=\"none\" stroke=\"black\" points=\"666,-82.5 666,-118.5 925,-118.5 925,-82.5 666,-82.5\"/>\n<text text-anchor=\"middle\" x=\"712\" y=\"-96.8\" font-family=\"Times,serif\" font-size=\"14.00\">x1w1 + x2w2</text>\n<polyline fill=\"none\" stroke=\"black\" points=\"758,-82.5 758,-118.5 \"/>\n<text text-anchor=\"middle\" x=\"800.5\" y=\"-96.8\" font-family=\"Times,serif\" font-size=\"14.00\">data &#45;6.0000</text>\n<polyline fill=\"none\" stroke=\"black\" points=\"843,-82.5 843,-118.5 \"/>\n<text text-anchor=\"middle\" x=\"884\" y=\"-96.8\" font-family=\"Times,serif\" font-size=\"14.00\">grad 0.5000</text>\n</g>\n<!-- 138500965742336&#45;&gt;138500965737680+ -->\n<g id=\"edge13\" class=\"edge\">\n<title>138500965742336&#45;&gt;138500965737680+</title>\n<path fill=\"none\" stroke=\"black\" d=\"M923.57,-118.51C933.55,-119.92 943,-121.26 951.42,-122.46\"/>\n<polygon fill=\"black\" stroke=\"black\" points=\"951.09,-125.95 961.48,-123.88 952.07,-119.01 951.09,-125.95\"/>\n</g>\n<!-- 138500965742336+ -->\n<g id=\"node8\" class=\"node\">\n<title>138500965742336+</title>\n<ellipse fill=\"none\" stroke=\"black\" cx=\"603\" cy=\"-100.5\" rx=\"27\" ry=\"18\"/>\n<text text-anchor=\"middle\" x=\"603\" y=\"-96.8\" font-family=\"Times,serif\" font-size=\"14.00\">+</text>\n</g>\n<!-- 138500965742336+&#45;&gt;138500965742336 -->\n<g id=\"edge2\" class=\"edge\">\n<title>138500965742336+&#45;&gt;138500965742336</title>\n<path fill=\"none\" stroke=\"black\" d=\"M630.09,-100.5C637.58,-100.5 646.3,-100.5 655.75,-100.5\"/>\n<polygon fill=\"black\" stroke=\"black\" points=\"655.84,-104 665.84,-100.5 655.84,-97 655.84,-104\"/>\n</g>\n<!-- 138500965737248 -->\n<g id=\"node9\" class=\"node\">\n<title>138500965737248</title>\n<polygon fill=\"none\" stroke=\"black\" points=\"328.5,-110.5 328.5,-146.5 537.5,-146.5 537.5,-110.5 328.5,-110.5\"/>\n<text text-anchor=\"middle\" x=\"352\" y=\"-124.8\" font-family=\"Times,serif\" font-size=\"14.00\">x2w2</text>\n<polyline fill=\"none\" stroke=\"black\" points=\"375.5,-110.5 375.5,-146.5 \"/>\n<text text-anchor=\"middle\" x=\"415.5\" y=\"-124.8\" font-family=\"Times,serif\" font-size=\"14.00\">data 0.0000</text>\n<polyline fill=\"none\" stroke=\"black\" points=\"455.5,-110.5 455.5,-146.5 \"/>\n<text text-anchor=\"middle\" x=\"496.5\" y=\"-124.8\" font-family=\"Times,serif\" font-size=\"14.00\">grad 0.5000</text>\n</g>\n<!-- 138500965737248&#45;&gt;138500965742336+ -->\n<g id=\"edge9\" class=\"edge\">\n<title>138500965737248&#45;&gt;138500965742336+</title>\n<path fill=\"none\" stroke=\"black\" d=\"M537.53,-111.25C547.8,-109.53 557.66,-107.89 566.45,-106.43\"/>\n<polygon fill=\"black\" stroke=\"black\" points=\"567.3,-109.83 576.59,-104.74 566.15,-102.93 567.3,-109.83\"/>\n</g>\n<!-- 138500965737248*&#45;&gt;138500965737248 -->\n<g id=\"edge3\" class=\"edge\">\n<title>138500965737248*&#45;&gt;138500965737248</title>\n<path fill=\"none\" stroke=\"black\" d=\"M290.25,-128.5C298.43,-128.5 308.03,-128.5 318.31,-128.5\"/>\n<polygon fill=\"black\" stroke=\"black\" points=\"318.35,-132 328.35,-128.5 318.35,-125 318.35,-132\"/>\n</g>\n<!-- 138500965741472 -->\n<g id=\"node11\" class=\"node\">\n<title>138500965741472</title>\n<polygon fill=\"none\" stroke=\"black\" points=\"4,-110.5 4,-146.5 196,-146.5 196,-110.5 4,-110.5\"/>\n<text text-anchor=\"middle\" x=\"19\" y=\"-124.8\" font-family=\"Times,serif\" font-size=\"14.00\">x2</text>\n<polyline fill=\"none\" stroke=\"black\" points=\"34,-110.5 34,-146.5 \"/>\n<text text-anchor=\"middle\" x=\"74\" y=\"-124.8\" font-family=\"Times,serif\" font-size=\"14.00\">data 0.0000</text>\n<polyline fill=\"none\" stroke=\"black\" points=\"114,-110.5 114,-146.5 \"/>\n<text text-anchor=\"middle\" x=\"155\" y=\"-124.8\" font-family=\"Times,serif\" font-size=\"14.00\">grad 0.5000</text>\n</g>\n<!-- 138500965741472&#45;&gt;138500965737248* -->\n<g id=\"edge8\" class=\"edge\">\n<title>138500965741472&#45;&gt;138500965737248*</title>\n<path fill=\"none\" stroke=\"black\" d=\"M196.05,-128.5C206.52,-128.5 216.65,-128.5 225.71,-128.5\"/>\n<polygon fill=\"black\" stroke=\"black\" points=\"225.79,-132 235.79,-128.5 225.79,-125 225.79,-132\"/>\n</g>\n<!-- 138500967052720 -->\n<g id=\"node12\" class=\"node\">\n<title>138500967052720</title>\n<polygon fill=\"none\" stroke=\"black\" points=\"1362,-109.5 1362,-145.5 1547,-145.5 1547,-109.5 1362,-109.5\"/>\n<text text-anchor=\"middle\" x=\"1373.5\" y=\"-123.8\" font-family=\"Times,serif\" font-size=\"14.00\">o</text>\n<polyline fill=\"none\" stroke=\"black\" points=\"1385,-109.5 1385,-145.5 \"/>\n<text text-anchor=\"middle\" x=\"1425\" y=\"-123.8\" font-family=\"Times,serif\" font-size=\"14.00\">data 0.7071</text>\n<polyline fill=\"none\" stroke=\"black\" points=\"1465,-109.5 1465,-145.5 \"/>\n<text text-anchor=\"middle\" x=\"1506\" y=\"-123.8\" font-family=\"Times,serif\" font-size=\"14.00\">grad 1.0000</text>\n</g>\n<!-- 138500967052720tanh&#45;&gt;138500967052720 -->\n<g id=\"edge4\" class=\"edge\">\n<title>138500967052720tanh&#45;&gt;138500967052720</title>\n<path fill=\"none\" stroke=\"black\" d=\"M1326.04,-127.5C1333.58,-127.5 1342.3,-127.5 1351.57,-127.5\"/>\n<polygon fill=\"black\" stroke=\"black\" points=\"1351.81,-131 1361.81,-127.5 1351.81,-124 1351.81,-131\"/>\n</g>\n<!-- 138500965734368 -->\n<g id=\"node14\" class=\"node\">\n<title>138500965734368</title>\n<polygon fill=\"none\" stroke=\"black\" points=\"326,-55.5 326,-91.5 540,-91.5 540,-55.5 326,-55.5\"/>\n<text text-anchor=\"middle\" x=\"349.5\" y=\"-69.8\" font-family=\"Times,serif\" font-size=\"14.00\">x1w1</text>\n<polyline fill=\"none\" stroke=\"black\" points=\"373,-55.5 373,-91.5 \"/>\n<text text-anchor=\"middle\" x=\"415.5\" y=\"-69.8\" font-family=\"Times,serif\" font-size=\"14.00\">data &#45;6.0000</text>\n<polyline fill=\"none\" stroke=\"black\" points=\"458,-55.5 458,-91.5 \"/>\n<text text-anchor=\"middle\" x=\"499\" y=\"-69.8\" font-family=\"Times,serif\" font-size=\"14.00\">grad 0.5000</text>\n</g>\n<!-- 138500965734368&#45;&gt;138500965742336+ -->\n<g id=\"edge12\" class=\"edge\">\n<title>138500965734368&#45;&gt;138500965742336+</title>\n<path fill=\"none\" stroke=\"black\" d=\"M540.4,-90.6C549.72,-92.1 558.65,-93.53 566.68,-94.82\"/>\n<polygon fill=\"black\" stroke=\"black\" points=\"566.24,-98.3 576.66,-96.43 567.35,-91.39 566.24,-98.3\"/>\n</g>\n<!-- 138500965734368*&#45;&gt;138500965734368 -->\n<g id=\"edge5\" class=\"edge\">\n<title>138500965734368*&#45;&gt;138500965734368</title>\n<path fill=\"none\" stroke=\"black\" d=\"M290.25,-73.5C297.7,-73.5 306.34,-73.5 315.59,-73.5\"/>\n<polygon fill=\"black\" stroke=\"black\" points=\"315.84,-77 325.84,-73.5 315.84,-70 315.84,-77\"/>\n</g>\n</g>\n</svg>\n",
            "text/plain": [
              "<graphviz.graphs.Digraph at 0x7df744dd2590>"
            ]
          },
          "metadata": {},
          "execution_count": 5
        }
      ]
    },
    {
      "cell_type": "markdown",
      "source": [
        "\n",
        "### Implementing more mathematical expressions\n",
        "\n",
        "ADDITION:\n",
        "> `a = Value(2.0)`\\\n",
        "`a + 1` (doesnt work, because 1 is not a value object)\n",
        "\n",
        "Solution: wrap number in `Value` object\n",
        "\n",
        "\n",
        "\n"
      ],
      "metadata": {
        "id": "W3xezMcv68XR"
      }
    },
    {
      "cell_type": "code",
      "source": [
        "a = Value(2.0)\n",
        "a + 1"
      ],
      "metadata": {
        "id": "PftvdX6m6ayD",
        "colab": {
          "base_uri": "https://localhost:8080/"
        },
        "outputId": "e93116ba-bc4f-4c86-c26d-2c2652f460f5"
      },
      "execution_count": 6,
      "outputs": [
        {
          "output_type": "execute_result",
          "data": {
            "text/plain": [
              "Value(data=3.0)"
            ]
          },
          "metadata": {},
          "execution_count": 6
        }
      ]
    },
    {
      "cell_type": "markdown",
      "source": [
        "MULTIPLICATION:\n",
        "> `a * 2` (works: `a.__mul__(2)`)\\\n",
        "`2 * a` (doesnt work: `2.__mul__(a)`)\n",
        "\n",
        "Solution: define `__rmul__` as a fallback\n"
      ],
      "metadata": {
        "id": "IvpU_h09WBby"
      }
    },
    {
      "cell_type": "code",
      "source": [
        "4 * a"
      ],
      "metadata": {
        "colab": {
          "base_uri": "https://localhost:8080/"
        },
        "id": "tZpUh-J9RgPD",
        "outputId": "910dd4b1-305a-4511-d643-f9d4cb5c8776"
      },
      "execution_count": 7,
      "outputs": [
        {
          "output_type": "execute_result",
          "data": {
            "text/plain": [
              "Value(data=8.0)"
            ]
          },
          "metadata": {},
          "execution_count": 7
        }
      ]
    },
    {
      "cell_type": "markdown",
      "source": [
        "EXPONENTIAL :\n",
        "> mirrors the `tanh` function"
      ],
      "metadata": {
        "id": "iwkXvFS2WJR4"
      }
    },
    {
      "cell_type": "code",
      "source": [
        "a.exp()"
      ],
      "metadata": {
        "colab": {
          "base_uri": "https://localhost:8080/"
        },
        "id": "gs_m817kUg-p",
        "outputId": "b6dbcaf5-bfd6-40f0-a473-a309c2648f67"
      },
      "execution_count": 8,
      "outputs": [
        {
          "output_type": "execute_result",
          "data": {
            "text/plain": [
              "Value(data=7.38905609893065)"
            ]
          },
          "metadata": {},
          "execution_count": 8
        }
      ]
    },
    {
      "cell_type": "markdown",
      "source": [
        "DIVISION:\n",
        "> redefine division so that `self/other` can be written as `self * other**-1`\\\n",
        "a / b \\\n",
        "a * (1 / b)\\\n",
        "a * (b ** -1)\n",
        "\n",
        "Solution: `__truediv__` and `__pow__` functions"
      ],
      "metadata": {
        "id": "kXLhPLWcXEAC"
      }
    },
    {
      "cell_type": "code",
      "source": [
        "a = Value(6.0)\n",
        "b = Value(3.0)\n",
        "a / b"
      ],
      "metadata": {
        "colab": {
          "base_uri": "https://localhost:8080/"
        },
        "id": "8k3XjyLKUhFY",
        "outputId": "a7ae0928-f526-4c31-d4ae-0ca56baf0b53"
      },
      "execution_count": 9,
      "outputs": [
        {
          "output_type": "execute_result",
          "data": {
            "text/plain": [
              "Value(data=2.0)"
            ]
          },
          "metadata": {},
          "execution_count": 9
        }
      ]
    },
    {
      "cell_type": "markdown",
      "source": [
        "SUBTRACTION:\n",
        "> a - b\n",
        "\n",
        "Solution: implement by addition of a negation. Negation implemented by `-1`"
      ],
      "metadata": {
        "id": "Co18KG_CbReN"
      }
    },
    {
      "cell_type": "code",
      "source": [
        "a -b"
      ],
      "metadata": {
        "colab": {
          "base_uri": "https://localhost:8080/"
        },
        "id": "ZvUMdogxbMYr",
        "outputId": "ffe28ac1-c0a7-4d92-9b2a-515c902ba8ad"
      },
      "execution_count": 10,
      "outputs": [
        {
          "output_type": "execute_result",
          "data": {
            "text/plain": [
              "Value(data=3.0)"
            ]
          },
          "metadata": {},
          "execution_count": 10
        }
      ]
    },
    {
      "cell_type": "markdown",
      "source": [
        "### Breaking the `tanh`"
      ],
      "metadata": {
        "id": "zJc_vvAWdCTZ"
      }
    },
    {
      "cell_type": "code",
      "source": [
        "# inputs: x1,x2\n",
        "x1 = Value(2.0, label = 'x1')\n",
        "x2 = Value(0.0, label = 'x2')\n",
        "\n",
        "# weights\n",
        "w1 = Value(-3.0, label = 'w1')\n",
        "w2 = Value(1.0, label = 'w2')\n",
        "\n",
        "# bias\n",
        "b = Value(6.8813735870195432, label = 'b')\n",
        "\n",
        "# x1w1, x2w2\n",
        "x1w1 = x1 * w1; x1w1.label = 'x1w1'\n",
        "x2w2 = x2 * w2; x2w2.label = 'x2w2'\n",
        "x1w1_x2w2 = x1w1 + x2w2; x1w1_x2w2.label = 'x1w1 + x2w2'\n",
        "\n",
        "# n : without activation\n",
        "n = x1w1_x2w2 + b; n.label='n'\n",
        "\n",
        "# ---\n",
        "# e4=Value(2.0); e4.label='e4'\n",
        "# e1 = e4*n; e1.label='e1'\n",
        "# e2 = e1.exp(); e2.label='e2'\n",
        "# o1 = (e2 - 1); o1.label='o1'\n",
        "# o2 = (e2 + 1); o2.label='o2'\n",
        "# o3 = o1/o2; o3.label='o3'\n",
        "\n",
        "e = (2*n).exp()\n",
        "o = (e - 1)/(e + 1)\n",
        "# ---\n",
        "\n",
        "o.label='o'\n",
        "o.backward()\n",
        "draw_dot(o)"
      ],
      "metadata": {
        "colab": {
          "base_uri": "https://localhost:8080/",
          "height": 360
        },
        "id": "5uL505FjbMnL",
        "outputId": "691b9d32-19e5-429f-8f08-56d274505551"
      },
      "execution_count": 11,
      "outputs": [
        {
          "output_type": "execute_result",
          "data": {
            "image/svg+xml": "<?xml version=\"1.0\" encoding=\"UTF-8\" standalone=\"no\"?>\n<!DOCTYPE svg PUBLIC \"-//W3C//DTD SVG 1.1//EN\"\n \"http://www.w3.org/Graphics/SVG/1.1/DTD/svg11.dtd\">\n<!-- Generated by graphviz version 2.43.0 (0)\n -->\n<!-- Title: %3 Pages: 1 -->\n<svg width=\"2936pt\" height=\"239pt\"\n viewBox=\"0.00 0.00 2936.00 239.00\" xmlns=\"http://www.w3.org/2000/svg\" xmlns:xlink=\"http://www.w3.org/1999/xlink\">\n<g id=\"graph0\" class=\"graph\" transform=\"scale(1 1) rotate(0) translate(4 235)\">\n<title>%3</title>\n<polygon fill=\"white\" stroke=\"transparent\" points=\"-4,4 -4,-235 2932,-235 2932,4 -4,4\"/>\n<!-- 138500965635104 -->\n<g id=\"node1\" class=\"node\">\n<title>138500965635104</title>\n<polygon fill=\"none\" stroke=\"black\" points=\"1684.5,-55.5 1684.5,-91.5 1866.5,-91.5 1866.5,-55.5 1684.5,-55.5\"/>\n<text text-anchor=\"middle\" x=\"1694.5\" y=\"-69.8\" font-family=\"Times,serif\" font-size=\"14.00\"> </text>\n<polyline fill=\"none\" stroke=\"black\" points=\"1704.5,-55.5 1704.5,-91.5 \"/>\n<text text-anchor=\"middle\" x=\"1744.5\" y=\"-69.8\" font-family=\"Times,serif\" font-size=\"14.00\">data 5.8284</text>\n<polyline fill=\"none\" stroke=\"black\" points=\"1784.5,-55.5 1784.5,-91.5 \"/>\n<text text-anchor=\"middle\" x=\"1825.5\" y=\"-69.8\" font-family=\"Times,serif\" font-size=\"14.00\">grad 0.0429</text>\n</g>\n<!-- 138500965638944+ -->\n<g id=\"node19\" class=\"node\">\n<title>138500965638944+</title>\n<ellipse fill=\"none\" stroke=\"black\" cx=\"1932\" cy=\"-45.5\" rx=\"27\" ry=\"18\"/>\n<text text-anchor=\"middle\" x=\"1932\" y=\"-41.8\" font-family=\"Times,serif\" font-size=\"14.00\">+</text>\n</g>\n<!-- 138500965635104&#45;&gt;138500965638944+ -->\n<g id=\"edge23\" class=\"edge\">\n<title>138500965635104&#45;&gt;138500965638944+</title>\n<path fill=\"none\" stroke=\"black\" d=\"M1866.82,-57.13C1877.07,-55.27 1887.01,-53.47 1895.88,-51.87\"/>\n<polygon fill=\"black\" stroke=\"black\" points=\"1896.54,-55.3 1905.75,-50.08 1895.29,-48.42 1896.54,-55.3\"/>\n</g>\n<!-- 138500965631840+ -->\n<g id=\"node23\" class=\"node\">\n<title>138500965631840+</title>\n<ellipse fill=\"none\" stroke=\"black\" cx=\"1932\" cy=\"-100.5\" rx=\"27\" ry=\"18\"/>\n<text text-anchor=\"middle\" x=\"1932\" y=\"-96.8\" font-family=\"Times,serif\" font-size=\"14.00\">+</text>\n</g>\n<!-- 138500965635104&#45;&gt;138500965631840+ -->\n<g id=\"edge20\" class=\"edge\">\n<title>138500965635104&#45;&gt;138500965631840+</title>\n<path fill=\"none\" stroke=\"black\" d=\"M1866.82,-89.28C1877.07,-91.08 1887.01,-92.81 1895.88,-94.36\"/>\n<polygon fill=\"black\" stroke=\"black\" points=\"1895.3,-97.81 1905.75,-96.09 1896.5,-90.92 1895.3,-97.81\"/>\n</g>\n<!-- 138500965635104exp -->\n<g id=\"node2\" class=\"node\">\n<title>138500965635104exp</title>\n<ellipse fill=\"none\" stroke=\"black\" cx=\"1619\" cy=\"-73.5\" rx=\"27\" ry=\"18\"/>\n<text text-anchor=\"middle\" x=\"1619\" y=\"-69.8\" font-family=\"Times,serif\" font-size=\"14.00\">exp</text>\n</g>\n<!-- 138500965635104exp&#45;&gt;138500965635104 -->\n<g id=\"edge1\" class=\"edge\">\n<title>138500965635104exp&#45;&gt;138500965635104</title>\n<path fill=\"none\" stroke=\"black\" d=\"M1646.21,-73.5C1654.34,-73.5 1663.85,-73.5 1673.94,-73.5\"/>\n<polygon fill=\"black\" stroke=\"black\" points=\"1674.19,-77 1684.19,-73.5 1674.19,-70 1674.19,-77\"/>\n</g>\n<!-- 138500965640240 -->\n<g id=\"node3\" class=\"node\">\n<title>138500965640240</title>\n<polygon fill=\"none\" stroke=\"black\" points=\"1374,-55.5 1374,-91.5 1556,-91.5 1556,-55.5 1374,-55.5\"/>\n<text text-anchor=\"middle\" x=\"1384\" y=\"-69.8\" font-family=\"Times,serif\" font-size=\"14.00\"> </text>\n<polyline fill=\"none\" stroke=\"black\" points=\"1394,-55.5 1394,-91.5 \"/>\n<text text-anchor=\"middle\" x=\"1434\" y=\"-69.8\" font-family=\"Times,serif\" font-size=\"14.00\">data 1.7627</text>\n<polyline fill=\"none\" stroke=\"black\" points=\"1474,-55.5 1474,-91.5 \"/>\n<text text-anchor=\"middle\" x=\"1515\" y=\"-69.8\" font-family=\"Times,serif\" font-size=\"14.00\">grad 0.2500</text>\n</g>\n<!-- 138500965640240&#45;&gt;138500965635104exp -->\n<g id=\"edge17\" class=\"edge\">\n<title>138500965640240&#45;&gt;138500965635104exp</title>\n<path fill=\"none\" stroke=\"black\" d=\"M1556.18,-73.5C1565.14,-73.5 1573.83,-73.5 1581.73,-73.5\"/>\n<polygon fill=\"black\" stroke=\"black\" points=\"1581.96,-77 1591.96,-73.5 1581.96,-70 1581.96,-77\"/>\n</g>\n<!-- 138500965640240* -->\n<g id=\"node4\" class=\"node\">\n<title>138500965640240*</title>\n<ellipse fill=\"none\" stroke=\"black\" cx=\"1311\" cy=\"-73.5\" rx=\"27\" ry=\"18\"/>\n<text text-anchor=\"middle\" x=\"1311\" y=\"-69.8\" font-family=\"Times,serif\" font-size=\"14.00\">*</text>\n</g>\n<!-- 138500965640240*&#45;&gt;138500965640240 -->\n<g id=\"edge2\" class=\"edge\">\n<title>138500965640240*&#45;&gt;138500965640240</title>\n<path fill=\"none\" stroke=\"black\" d=\"M1338.13,-73.5C1345.67,-73.5 1354.39,-73.5 1363.64,-73.5\"/>\n<polygon fill=\"black\" stroke=\"black\" points=\"1363.87,-77 1373.87,-73.5 1363.87,-70 1363.87,-77\"/>\n</g>\n<!-- 138500965734464 -->\n<g id=\"node5\" class=\"node\">\n<title>138500965734464</title>\n<polygon fill=\"none\" stroke=\"black\" points=\"6,-84.5 6,-120.5 198,-120.5 198,-84.5 6,-84.5\"/>\n<text text-anchor=\"middle\" x=\"21\" y=\"-98.8\" font-family=\"Times,serif\" font-size=\"14.00\">x1</text>\n<polyline fill=\"none\" stroke=\"black\" points=\"36,-84.5 36,-120.5 \"/>\n<text text-anchor=\"middle\" x=\"76\" y=\"-98.8\" font-family=\"Times,serif\" font-size=\"14.00\">data 2.0000</text>\n<polyline fill=\"none\" stroke=\"black\" points=\"116,-84.5 116,-120.5 \"/>\n<text text-anchor=\"middle\" x=\"157\" y=\"-98.8\" font-family=\"Times,serif\" font-size=\"14.00\">grad 5.7426</text>\n</g>\n<!-- 138500965738112* -->\n<g id=\"node11\" class=\"node\">\n<title>138500965738112*</title>\n<ellipse fill=\"none\" stroke=\"black\" cx=\"267\" cy=\"-102.5\" rx=\"27\" ry=\"18\"/>\n<text text-anchor=\"middle\" x=\"267\" y=\"-98.8\" font-family=\"Times,serif\" font-size=\"14.00\">*</text>\n</g>\n<!-- 138500965734464&#45;&gt;138500965738112* -->\n<g id=\"edge22\" class=\"edge\">\n<title>138500965734464&#45;&gt;138500965738112*</title>\n<path fill=\"none\" stroke=\"black\" d=\"M198.29,-102.5C209.32,-102.5 220.01,-102.5 229.51,-102.5\"/>\n<polygon fill=\"black\" stroke=\"black\" points=\"229.69,-106 239.69,-102.5 229.69,-99 229.69,-106\"/>\n</g>\n<!-- 138500965644368 -->\n<g id=\"node6\" class=\"node\">\n<title>138500965644368</title>\n<polygon fill=\"none\" stroke=\"black\" points=\"674,-111.5 674,-147.5 937,-147.5 937,-111.5 674,-111.5\"/>\n<text text-anchor=\"middle\" x=\"720\" y=\"-125.8\" font-family=\"Times,serif\" font-size=\"14.00\">x1w1 + x2w2</text>\n<polyline fill=\"none\" stroke=\"black\" points=\"766,-111.5 766,-147.5 \"/>\n<text text-anchor=\"middle\" x=\"808.5\" y=\"-125.8\" font-family=\"Times,serif\" font-size=\"14.00\">data &#45;6.0000</text>\n<polyline fill=\"none\" stroke=\"black\" points=\"851,-111.5 851,-147.5 \"/>\n<text text-anchor=\"middle\" x=\"894\" y=\"-125.8\" font-family=\"Times,serif\" font-size=\"14.00\">grad &#45;0.7071</text>\n</g>\n<!-- 138500965645520+ -->\n<g id=\"node13\" class=\"node\">\n<title>138500965645520+</title>\n<ellipse fill=\"none\" stroke=\"black\" cx=\"1000\" cy=\"-101.5\" rx=\"27\" ry=\"18\"/>\n<text text-anchor=\"middle\" x=\"1000\" y=\"-97.8\" font-family=\"Times,serif\" font-size=\"14.00\">+</text>\n</g>\n<!-- 138500965644368&#45;&gt;138500965645520+ -->\n<g id=\"edge27\" class=\"edge\">\n<title>138500965644368&#45;&gt;138500965645520+</title>\n<path fill=\"none\" stroke=\"black\" d=\"M930.32,-111.49C942.22,-109.76 953.5,-108.12 963.36,-106.68\"/>\n<polygon fill=\"black\" stroke=\"black\" points=\"964.06,-110.12 973.45,-105.22 963.05,-103.19 964.06,-110.12\"/>\n</g>\n<!-- 138500965644368+ -->\n<g id=\"node7\" class=\"node\">\n<title>138500965644368+</title>\n<ellipse fill=\"none\" stroke=\"black\" cx=\"611\" cy=\"-129.5\" rx=\"27\" ry=\"18\"/>\n<text text-anchor=\"middle\" x=\"611\" y=\"-125.8\" font-family=\"Times,serif\" font-size=\"14.00\">+</text>\n</g>\n<!-- 138500965644368+&#45;&gt;138500965644368 -->\n<g id=\"edge3\" class=\"edge\">\n<title>138500965644368+&#45;&gt;138500965644368</title>\n<path fill=\"none\" stroke=\"black\" d=\"M638.36,-129.5C645.7,-129.5 654.21,-129.5 663.42,-129.5\"/>\n<polygon fill=\"black\" stroke=\"black\" points=\"663.68,-133 673.68,-129.5 663.68,-126 663.68,-133\"/>\n</g>\n<!-- 138500965634144 -->\n<g id=\"node8\" class=\"node\">\n<title>138500965634144</title>\n<polygon fill=\"none\" stroke=\"black\" points=\"332.5,-139.5 332.5,-175.5 545.5,-175.5 545.5,-139.5 332.5,-139.5\"/>\n<text text-anchor=\"middle\" x=\"356\" y=\"-153.8\" font-family=\"Times,serif\" font-size=\"14.00\">x2w2</text>\n<polyline fill=\"none\" stroke=\"black\" points=\"379.5,-139.5 379.5,-175.5 \"/>\n<text text-anchor=\"middle\" x=\"419.5\" y=\"-153.8\" font-family=\"Times,serif\" font-size=\"14.00\">data 0.0000</text>\n<polyline fill=\"none\" stroke=\"black\" points=\"459.5,-139.5 459.5,-175.5 \"/>\n<text text-anchor=\"middle\" x=\"502.5\" y=\"-153.8\" font-family=\"Times,serif\" font-size=\"14.00\">grad &#45;1.9142</text>\n</g>\n<!-- 138500965634144&#45;&gt;138500965644368+ -->\n<g id=\"edge18\" class=\"edge\">\n<title>138500965634144&#45;&gt;138500965644368+</title>\n<path fill=\"none\" stroke=\"black\" d=\"M545.73,-140.09C556,-138.39 565.85,-136.77 574.61,-135.33\"/>\n<polygon fill=\"black\" stroke=\"black\" points=\"575.41,-138.74 584.71,-133.66 574.28,-131.84 575.41,-138.74\"/>\n</g>\n<!-- 138500965634144* -->\n<g id=\"node9\" class=\"node\">\n<title>138500965634144*</title>\n<ellipse fill=\"none\" stroke=\"black\" cx=\"267\" cy=\"-157.5\" rx=\"27\" ry=\"18\"/>\n<text text-anchor=\"middle\" x=\"267\" y=\"-153.8\" font-family=\"Times,serif\" font-size=\"14.00\">*</text>\n</g>\n<!-- 138500965634144*&#45;&gt;138500965634144 -->\n<g id=\"edge4\" class=\"edge\">\n<title>138500965634144*&#45;&gt;138500965634144</title>\n<path fill=\"none\" stroke=\"black\" d=\"M294.19,-157.5C302.38,-157.5 311.99,-157.5 322.3,-157.5\"/>\n<polygon fill=\"black\" stroke=\"black\" points=\"322.38,-161 332.38,-157.5 322.38,-154 322.38,-161\"/>\n</g>\n<!-- 138500965738112 -->\n<g id=\"node10\" class=\"node\">\n<title>138500965738112</title>\n<polygon fill=\"none\" stroke=\"black\" points=\"330,-84.5 330,-120.5 548,-120.5 548,-84.5 330,-84.5\"/>\n<text text-anchor=\"middle\" x=\"353.5\" y=\"-98.8\" font-family=\"Times,serif\" font-size=\"14.00\">x1w1</text>\n<polyline fill=\"none\" stroke=\"black\" points=\"377,-84.5 377,-120.5 \"/>\n<text text-anchor=\"middle\" x=\"419.5\" y=\"-98.8\" font-family=\"Times,serif\" font-size=\"14.00\">data &#45;6.0000</text>\n<polyline fill=\"none\" stroke=\"black\" points=\"462,-84.5 462,-120.5 \"/>\n<text text-anchor=\"middle\" x=\"505\" y=\"-98.8\" font-family=\"Times,serif\" font-size=\"14.00\">grad &#45;1.9142</text>\n</g>\n<!-- 138500965738112&#45;&gt;138500965644368+ -->\n<g id=\"edge14\" class=\"edge\">\n<title>138500965738112&#45;&gt;138500965644368+</title>\n<path fill=\"none\" stroke=\"black\" d=\"M548.15,-119.68C557.52,-121.17 566.5,-122.59 574.56,-123.87\"/>\n<polygon fill=\"black\" stroke=\"black\" points=\"574.16,-127.35 584.58,-125.46 575.26,-120.44 574.16,-127.35\"/>\n</g>\n<!-- 138500965738112*&#45;&gt;138500965738112 -->\n<g id=\"edge5\" class=\"edge\">\n<title>138500965738112*&#45;&gt;138500965738112</title>\n<path fill=\"none\" stroke=\"black\" d=\"M294.19,-102.5C301.65,-102.5 310.28,-102.5 319.56,-102.5\"/>\n<polygon fill=\"black\" stroke=\"black\" points=\"319.84,-106 329.84,-102.5 319.84,-99 319.84,-106\"/>\n</g>\n<!-- 138500965645520 -->\n<g id=\"node12\" class=\"node\">\n<title>138500965645520</title>\n<polygon fill=\"none\" stroke=\"black\" points=\"1063,-83.5 1063,-119.5 1248,-119.5 1248,-83.5 1063,-83.5\"/>\n<text text-anchor=\"middle\" x=\"1074.5\" y=\"-97.8\" font-family=\"Times,serif\" font-size=\"14.00\">n</text>\n<polyline fill=\"none\" stroke=\"black\" points=\"1086,-83.5 1086,-119.5 \"/>\n<text text-anchor=\"middle\" x=\"1126\" y=\"-97.8\" font-family=\"Times,serif\" font-size=\"14.00\">data 0.8814</text>\n<polyline fill=\"none\" stroke=\"black\" points=\"1166,-83.5 1166,-119.5 \"/>\n<text text-anchor=\"middle\" x=\"1207\" y=\"-97.8\" font-family=\"Times,serif\" font-size=\"14.00\">grad 0.5000</text>\n</g>\n<!-- 138500965645520&#45;&gt;138500965640240* -->\n<g id=\"edge19\" class=\"edge\">\n<title>138500965645520&#45;&gt;138500965640240*</title>\n<path fill=\"none\" stroke=\"black\" d=\"M1248.01,-84.81C1257.49,-83.08 1266.66,-81.41 1274.9,-79.9\"/>\n<polygon fill=\"black\" stroke=\"black\" points=\"1275.6,-83.33 1284.81,-78.09 1274.35,-76.45 1275.6,-83.33\"/>\n</g>\n<!-- 138500965645520+&#45;&gt;138500965645520 -->\n<g id=\"edge6\" class=\"edge\">\n<title>138500965645520+&#45;&gt;138500965645520</title>\n<path fill=\"none\" stroke=\"black\" d=\"M1027.04,-101.5C1034.58,-101.5 1043.3,-101.5 1052.57,-101.5\"/>\n<polygon fill=\"black\" stroke=\"black\" points=\"1052.81,-105 1062.81,-101.5 1052.81,-98 1052.81,-105\"/>\n</g>\n<!-- 138500965641968 -->\n<g id=\"node14\" class=\"node\">\n<title>138500965641968</title>\n<polygon fill=\"none\" stroke=\"black\" points=\"2435,-31.5 2435,-67.5 2617,-67.5 2617,-31.5 2435,-31.5\"/>\n<text text-anchor=\"middle\" x=\"2445\" y=\"-45.8\" font-family=\"Times,serif\" font-size=\"14.00\"> </text>\n<polyline fill=\"none\" stroke=\"black\" points=\"2455,-31.5 2455,-67.5 \"/>\n<text text-anchor=\"middle\" x=\"2495\" y=\"-45.8\" font-family=\"Times,serif\" font-size=\"14.00\">data 0.1464</text>\n<polyline fill=\"none\" stroke=\"black\" points=\"2535,-31.5 2535,-67.5 \"/>\n<text text-anchor=\"middle\" x=\"2576\" y=\"-45.8\" font-family=\"Times,serif\" font-size=\"14.00\">grad 4.8284</text>\n</g>\n<!-- 138500965638608* -->\n<g id=\"node27\" class=\"node\">\n<title>138500965638608*</title>\n<ellipse fill=\"none\" stroke=\"black\" cx=\"2680\" cy=\"-72.5\" rx=\"27\" ry=\"18\"/>\n<text text-anchor=\"middle\" x=\"2680\" y=\"-68.8\" font-family=\"Times,serif\" font-size=\"14.00\">*</text>\n</g>\n<!-- 138500965641968&#45;&gt;138500965638608* -->\n<g id=\"edge12\" class=\"edge\">\n<title>138500965641968&#45;&gt;138500965638608*</title>\n<path fill=\"none\" stroke=\"black\" d=\"M2617.18,-63.15C2626.42,-64.54 2635.38,-65.9 2643.47,-67.12\"/>\n<polygon fill=\"black\" stroke=\"black\" points=\"2643.15,-70.61 2653.56,-68.65 2644.19,-63.69 2643.15,-70.61\"/>\n</g>\n<!-- 138500965641968**&#45;1 -->\n<g id=\"node15\" class=\"node\">\n<title>138500965641968**&#45;1</title>\n<ellipse fill=\"none\" stroke=\"black\" cx=\"2308\" cy=\"-45.5\" rx=\"27\" ry=\"18\"/>\n<text text-anchor=\"middle\" x=\"2308\" y=\"-41.8\" font-family=\"Times,serif\" font-size=\"14.00\">**&#45;1</text>\n</g>\n<!-- 138500965641968**&#45;1&#45;&gt;138500965641968 -->\n<g id=\"edge7\" class=\"edge\">\n<title>138500965641968**&#45;1&#45;&gt;138500965641968</title>\n<path fill=\"none\" stroke=\"black\" d=\"M2335.05,-45.98C2357.53,-46.4 2391.48,-47.03 2424.5,-47.64\"/>\n<polygon fill=\"black\" stroke=\"black\" points=\"2424.64,-51.14 2434.7,-47.83 2424.77,-44.14 2424.64,-51.14\"/>\n</g>\n<!-- 138500965731584 -->\n<g id=\"node16\" class=\"node\">\n<title>138500965731584</title>\n<polygon fill=\"none\" stroke=\"black\" points=\"711,-56.5 711,-92.5 900,-92.5 900,-56.5 711,-56.5\"/>\n<text text-anchor=\"middle\" x=\"722.5\" y=\"-70.8\" font-family=\"Times,serif\" font-size=\"14.00\">b</text>\n<polyline fill=\"none\" stroke=\"black\" points=\"734,-56.5 734,-92.5 \"/>\n<text text-anchor=\"middle\" x=\"774\" y=\"-70.8\" font-family=\"Times,serif\" font-size=\"14.00\">data 6.8814</text>\n<polyline fill=\"none\" stroke=\"black\" points=\"814,-56.5 814,-92.5 \"/>\n<text text-anchor=\"middle\" x=\"857\" y=\"-70.8\" font-family=\"Times,serif\" font-size=\"14.00\">grad &#45;0.7071</text>\n</g>\n<!-- 138500965731584&#45;&gt;138500965645520+ -->\n<g id=\"edge11\" class=\"edge\">\n<title>138500965731584&#45;&gt;138500965645520+</title>\n<path fill=\"none\" stroke=\"black\" d=\"M900.21,-87.64C922.75,-90.81 945.48,-93.99 963.44,-96.51\"/>\n<polygon fill=\"black\" stroke=\"black\" points=\"963.04,-99.99 973.43,-97.91 964.01,-93.06 963.04,-99.99\"/>\n</g>\n<!-- 138500965736720 -->\n<g id=\"node17\" class=\"node\">\n<title>138500965736720</title>\n<polygon fill=\"none\" stroke=\"black\" points=\"0,-29.5 0,-65.5 204,-65.5 204,-29.5 0,-29.5\"/>\n<text text-anchor=\"middle\" x=\"16.5\" y=\"-43.8\" font-family=\"Times,serif\" font-size=\"14.00\">w1</text>\n<polyline fill=\"none\" stroke=\"black\" points=\"33,-29.5 33,-65.5 \"/>\n<text text-anchor=\"middle\" x=\"75.5\" y=\"-43.8\" font-family=\"Times,serif\" font-size=\"14.00\">data &#45;3.0000</text>\n<polyline fill=\"none\" stroke=\"black\" points=\"118,-29.5 118,-65.5 \"/>\n<text text-anchor=\"middle\" x=\"161\" y=\"-43.8\" font-family=\"Times,serif\" font-size=\"14.00\">grad &#45;3.8284</text>\n</g>\n<!-- 138500965736720&#45;&gt;138500965738112* -->\n<g id=\"edge21\" class=\"edge\">\n<title>138500965736720&#45;&gt;138500965738112*</title>\n<path fill=\"none\" stroke=\"black\" d=\"M176.26,-65.57C185.67,-68.33 195.11,-71.33 204,-74.5 214.54,-78.26 225.77,-83.07 235.73,-87.64\"/>\n<polygon fill=\"black\" stroke=\"black\" points=\"234.29,-90.83 244.83,-91.91 237.26,-84.49 234.29,-90.83\"/>\n</g>\n<!-- 138500965638944 -->\n<g id=\"node18\" class=\"node\">\n<title>138500965638944</title>\n<polygon fill=\"none\" stroke=\"black\" points=\"1995,-27.5 1995,-63.5 2181,-63.5 2181,-27.5 1995,-27.5\"/>\n<text text-anchor=\"middle\" x=\"2005\" y=\"-41.8\" font-family=\"Times,serif\" font-size=\"14.00\"> </text>\n<polyline fill=\"none\" stroke=\"black\" points=\"2015,-27.5 2015,-63.5 \"/>\n<text text-anchor=\"middle\" x=\"2055\" y=\"-41.8\" font-family=\"Times,serif\" font-size=\"14.00\">data 6.8284</text>\n<polyline fill=\"none\" stroke=\"black\" points=\"2095,-27.5 2095,-63.5 \"/>\n<text text-anchor=\"middle\" x=\"2138\" y=\"-41.8\" font-family=\"Times,serif\" font-size=\"14.00\">grad &#45;0.1036</text>\n</g>\n<!-- 138500965638944&#45;&gt;138500965641968**&#45;1 -->\n<g id=\"edge28\" class=\"edge\">\n<title>138500965638944&#45;&gt;138500965641968**&#45;1</title>\n<path fill=\"none\" stroke=\"black\" d=\"M2181.14,-45.5C2212.72,-45.5 2246.24,-45.5 2270.74,-45.5\"/>\n<polygon fill=\"black\" stroke=\"black\" points=\"2270.98,-49 2280.98,-45.5 2270.98,-42 2270.98,-49\"/>\n</g>\n<!-- 138500965638944+&#45;&gt;138500965638944 -->\n<g id=\"edge8\" class=\"edge\">\n<title>138500965638944+&#45;&gt;138500965638944</title>\n<path fill=\"none\" stroke=\"black\" d=\"M1959.12,-45.5C1966.62,-45.5 1975.29,-45.5 1984.5,-45.5\"/>\n<polygon fill=\"black\" stroke=\"black\" points=\"1984.69,-49 1994.69,-45.5 1984.69,-42 1984.69,-49\"/>\n</g>\n<!-- 138500965631792 -->\n<g id=\"node20\" class=\"node\">\n<title>138500965631792</title>\n<polygon fill=\"none\" stroke=\"black\" points=\"1682,-110.5 1682,-146.5 1869,-146.5 1869,-110.5 1682,-110.5\"/>\n<text text-anchor=\"middle\" x=\"1692\" y=\"-124.8\" font-family=\"Times,serif\" font-size=\"14.00\"> </text>\n<polyline fill=\"none\" stroke=\"black\" points=\"1702,-110.5 1702,-146.5 \"/>\n<text text-anchor=\"middle\" x=\"1744.5\" y=\"-124.8\" font-family=\"Times,serif\" font-size=\"14.00\">data &#45;1.0000</text>\n<polyline fill=\"none\" stroke=\"black\" points=\"1787,-110.5 1787,-146.5 \"/>\n<text text-anchor=\"middle\" x=\"1828\" y=\"-124.8\" font-family=\"Times,serif\" font-size=\"14.00\">grad 0.1464</text>\n</g>\n<!-- 138500965631792&#45;&gt;138500965631840+ -->\n<g id=\"edge16\" class=\"edge\">\n<title>138500965631792&#45;&gt;138500965631840+</title>\n<path fill=\"none\" stroke=\"black\" d=\"M1869.05,-111.73C1878.54,-110.01 1887.71,-108.35 1895.95,-106.85\"/>\n<polygon fill=\"black\" stroke=\"black\" points=\"1896.64,-110.28 1905.85,-105.06 1895.39,-103.4 1896.64,-110.28\"/>\n</g>\n<!-- 138500965638896 -->\n<g id=\"node21\" class=\"node\">\n<title>138500965638896</title>\n<polygon fill=\"none\" stroke=\"black\" points=\"1682.5,-0.5 1682.5,-36.5 1868.5,-36.5 1868.5,-0.5 1682.5,-0.5\"/>\n<text text-anchor=\"middle\" x=\"1692.5\" y=\"-14.8\" font-family=\"Times,serif\" font-size=\"14.00\"> </text>\n<polyline fill=\"none\" stroke=\"black\" points=\"1702.5,-0.5 1702.5,-36.5 \"/>\n<text text-anchor=\"middle\" x=\"1742.5\" y=\"-14.8\" font-family=\"Times,serif\" font-size=\"14.00\">data 1.0000</text>\n<polyline fill=\"none\" stroke=\"black\" points=\"1782.5,-0.5 1782.5,-36.5 \"/>\n<text text-anchor=\"middle\" x=\"1825.5\" y=\"-14.8\" font-family=\"Times,serif\" font-size=\"14.00\">grad &#45;0.1036</text>\n</g>\n<!-- 138500965638896&#45;&gt;138500965638944+ -->\n<g id=\"edge26\" class=\"edge\">\n<title>138500965638896&#45;&gt;138500965638944+</title>\n<path fill=\"none\" stroke=\"black\" d=\"M1868.6,-34.6C1878.15,-36.26 1887.37,-37.88 1895.68,-39.33\"/>\n<polygon fill=\"black\" stroke=\"black\" points=\"1895.2,-42.8 1905.65,-41.07 1896.4,-35.9 1895.2,-42.8\"/>\n</g>\n<!-- 138500965631840 -->\n<g id=\"node22\" class=\"node\">\n<title>138500965631840</title>\n<polygon fill=\"none\" stroke=\"black\" points=\"2217,-82.5 2217,-118.5 2399,-118.5 2399,-82.5 2217,-82.5\"/>\n<text text-anchor=\"middle\" x=\"2227\" y=\"-96.8\" font-family=\"Times,serif\" font-size=\"14.00\"> </text>\n<polyline fill=\"none\" stroke=\"black\" points=\"2237,-82.5 2237,-118.5 \"/>\n<text text-anchor=\"middle\" x=\"2277\" y=\"-96.8\" font-family=\"Times,serif\" font-size=\"14.00\">data 4.8284</text>\n<polyline fill=\"none\" stroke=\"black\" points=\"2317,-82.5 2317,-118.5 \"/>\n<text text-anchor=\"middle\" x=\"2358\" y=\"-96.8\" font-family=\"Times,serif\" font-size=\"14.00\">grad 0.1464</text>\n</g>\n<!-- 138500965631840&#45;&gt;138500965638608* -->\n<g id=\"edge25\" class=\"edge\">\n<title>138500965631840&#45;&gt;138500965638608*</title>\n<path fill=\"none\" stroke=\"black\" d=\"M2399.04,-93.69C2477.41,-87.76 2586.98,-79.46 2642.96,-75.23\"/>\n<polygon fill=\"black\" stroke=\"black\" points=\"2643.39,-78.7 2653.1,-74.46 2642.86,-71.72 2643.39,-78.7\"/>\n</g>\n<!-- 138500965631840+&#45;&gt;138500965631840 -->\n<g id=\"edge9\" class=\"edge\">\n<title>138500965631840+&#45;&gt;138500965631840</title>\n<path fill=\"none\" stroke=\"black\" d=\"M1959,-100.5C2009.46,-100.5 2123.06,-100.5 2206.81,-100.5\"/>\n<polygon fill=\"black\" stroke=\"black\" points=\"2206.87,-104 2216.87,-100.5 2206.87,-97 2206.87,-104\"/>\n</g>\n<!-- 138500965734800 -->\n<g id=\"node24\" class=\"node\">\n<title>138500965734800</title>\n<polygon fill=\"none\" stroke=\"black\" points=\"2.5,-194.5 2.5,-230.5 201.5,-230.5 201.5,-194.5 2.5,-194.5\"/>\n<text text-anchor=\"middle\" x=\"19\" y=\"-208.8\" font-family=\"Times,serif\" font-size=\"14.00\">w2</text>\n<polyline fill=\"none\" stroke=\"black\" points=\"35.5,-194.5 35.5,-230.5 \"/>\n<text text-anchor=\"middle\" x=\"75.5\" y=\"-208.8\" font-family=\"Times,serif\" font-size=\"14.00\">data 1.0000</text>\n<polyline fill=\"none\" stroke=\"black\" points=\"115.5,-194.5 115.5,-230.5 \"/>\n<text text-anchor=\"middle\" x=\"158.5\" y=\"-208.8\" font-family=\"Times,serif\" font-size=\"14.00\">grad &#45;0.0000</text>\n</g>\n<!-- 138500965734800&#45;&gt;138500965634144* -->\n<g id=\"edge15\" class=\"edge\">\n<title>138500965734800&#45;&gt;138500965634144*</title>\n<path fill=\"none\" stroke=\"black\" d=\"M176.26,-194.43C185.67,-191.67 195.11,-188.67 204,-185.5 214.54,-181.74 225.77,-176.93 235.73,-172.36\"/>\n<polygon fill=\"black\" stroke=\"black\" points=\"237.26,-175.51 244.83,-168.09 234.29,-169.17 237.26,-175.51\"/>\n</g>\n<!-- 138500965633952 -->\n<g id=\"node25\" class=\"node\">\n<title>138500965633952</title>\n<polygon fill=\"none\" stroke=\"black\" points=\"1064.5,-28.5 1064.5,-64.5 1246.5,-64.5 1246.5,-28.5 1064.5,-28.5\"/>\n<text text-anchor=\"middle\" x=\"1074.5\" y=\"-42.8\" font-family=\"Times,serif\" font-size=\"14.00\"> </text>\n<polyline fill=\"none\" stroke=\"black\" points=\"1084.5,-28.5 1084.5,-64.5 \"/>\n<text text-anchor=\"middle\" x=\"1124.5\" y=\"-42.8\" font-family=\"Times,serif\" font-size=\"14.00\">data 2.0000</text>\n<polyline fill=\"none\" stroke=\"black\" points=\"1164.5,-28.5 1164.5,-64.5 \"/>\n<text text-anchor=\"middle\" x=\"1205.5\" y=\"-42.8\" font-family=\"Times,serif\" font-size=\"14.00\">grad 0.2203</text>\n</g>\n<!-- 138500965633952&#45;&gt;138500965640240* -->\n<g id=\"edge24\" class=\"edge\">\n<title>138500965633952&#45;&gt;138500965640240*</title>\n<path fill=\"none\" stroke=\"black\" d=\"M1246.68,-62.36C1256.61,-64.11 1266.23,-65.8 1274.84,-67.32\"/>\n<polygon fill=\"black\" stroke=\"black\" points=\"1274.36,-70.78 1284.81,-69.07 1275.57,-63.89 1274.36,-70.78\"/>\n</g>\n<!-- 138500965638608 -->\n<g id=\"node26\" class=\"node\">\n<title>138500965638608</title>\n<polygon fill=\"none\" stroke=\"black\" points=\"2743,-54.5 2743,-90.5 2928,-90.5 2928,-54.5 2743,-54.5\"/>\n<text text-anchor=\"middle\" x=\"2754.5\" y=\"-68.8\" font-family=\"Times,serif\" font-size=\"14.00\">o</text>\n<polyline fill=\"none\" stroke=\"black\" points=\"2766,-54.5 2766,-90.5 \"/>\n<text text-anchor=\"middle\" x=\"2806\" y=\"-68.8\" font-family=\"Times,serif\" font-size=\"14.00\">data 0.7071</text>\n<polyline fill=\"none\" stroke=\"black\" points=\"2846,-54.5 2846,-90.5 \"/>\n<text text-anchor=\"middle\" x=\"2887\" y=\"-68.8\" font-family=\"Times,serif\" font-size=\"14.00\">grad 1.0000</text>\n</g>\n<!-- 138500965638608*&#45;&gt;138500965638608 -->\n<g id=\"edge10\" class=\"edge\">\n<title>138500965638608*&#45;&gt;138500965638608</title>\n<path fill=\"none\" stroke=\"black\" d=\"M2707.04,-72.5C2714.58,-72.5 2723.3,-72.5 2732.57,-72.5\"/>\n<polygon fill=\"black\" stroke=\"black\" points=\"2732.81,-76 2742.81,-72.5 2732.81,-69 2732.81,-76\"/>\n</g>\n<!-- 138500965728752 -->\n<g id=\"node28\" class=\"node\">\n<title>138500965728752</title>\n<polygon fill=\"none\" stroke=\"black\" points=\"4,-139.5 4,-175.5 200,-175.5 200,-139.5 4,-139.5\"/>\n<text text-anchor=\"middle\" x=\"19\" y=\"-153.8\" font-family=\"Times,serif\" font-size=\"14.00\">x2</text>\n<polyline fill=\"none\" stroke=\"black\" points=\"34,-139.5 34,-175.5 \"/>\n<text text-anchor=\"middle\" x=\"74\" y=\"-153.8\" font-family=\"Times,serif\" font-size=\"14.00\">data 0.0000</text>\n<polyline fill=\"none\" stroke=\"black\" points=\"114,-139.5 114,-175.5 \"/>\n<text text-anchor=\"middle\" x=\"157\" y=\"-153.8\" font-family=\"Times,serif\" font-size=\"14.00\">grad &#45;1.9142</text>\n</g>\n<!-- 138500965728752&#45;&gt;138500965634144* -->\n<g id=\"edge13\" class=\"edge\">\n<title>138500965728752&#45;&gt;138500965634144*</title>\n<path fill=\"none\" stroke=\"black\" d=\"M200.17,-157.5C210.66,-157.5 220.79,-157.5 229.82,-157.5\"/>\n<polygon fill=\"black\" stroke=\"black\" points=\"229.89,-161 239.89,-157.5 229.89,-154 229.89,-161\"/>\n</g>\n</g>\n</svg>\n",
            "text/plain": [
              "<graphviz.graphs.Digraph at 0x7df744db9330>"
            ]
          },
          "metadata": {},
          "execution_count": 11
        }
      ]
    },
    {
      "cell_type": "markdown",
      "source": [
        "> FIX the `__add__` back propagation error\\\n",
        "for `b.grad` AND `x1w1_x2w2.grad`\n"
      ],
      "metadata": {
        "id": "WsvHfBTfWlFv"
      }
    },
    {
      "cell_type": "markdown",
      "source": [
        "## Implementing Pytorch"
      ],
      "metadata": {
        "id": "e5dwyovCYEnI"
      }
    },
    {
      "cell_type": "code",
      "source": [
        "import torch"
      ],
      "metadata": {
        "id": "U-eiNAfNqwTJ"
      },
      "execution_count": 12,
      "outputs": []
    },
    {
      "cell_type": "code",
      "source": [
        "torch.Tensor([2.0]).dtype"
      ],
      "metadata": {
        "colab": {
          "base_uri": "https://localhost:8080/"
        },
        "id": "68Nuzo_asFm8",
        "outputId": "7990523e-71e9-41d3-8838-b7a3e7164575"
      },
      "execution_count": 13,
      "outputs": [
        {
          "output_type": "execute_result",
          "data": {
            "text/plain": [
              "torch.float32"
            ]
          },
          "metadata": {},
          "execution_count": 13
        }
      ]
    },
    {
      "cell_type": "code",
      "source": [
        "torch.Tensor([2.0]).double().dtype\n"
      ],
      "metadata": {
        "colab": {
          "base_uri": "https://localhost:8080/"
        },
        "id": "wfavhmjVY5If",
        "outputId": "a8b62f22-dbab-4e93-9d92-27659cdeedca"
      },
      "execution_count": 14,
      "outputs": [
        {
          "output_type": "execute_result",
          "data": {
            "text/plain": [
              "torch.float64"
            ]
          },
          "metadata": {},
          "execution_count": 14
        }
      ]
    },
    {
      "cell_type": "markdown",
      "source": [
        "pytorch assumes that leaf nodes do not requires gradients, so they have to be explicitly defined (set to `False` by default ofr efficiency reasons)"
      ],
      "metadata": {
        "id": "IdugYA1cdMGj"
      }
    },
    {
      "cell_type": "code",
      "source": [
        "x1 = torch.Tensor([2.0]).double()              ; x1.requires_grad = True\n",
        "x2 = torch.Tensor([0.0]).double()              ; x2.requires_grad = True\n",
        "w1 = torch.Tensor([-3.0]).double()             ; w1.requires_grad = True\n",
        "w2 = torch.Tensor([1.0]).double()              ; w2.requires_grad = True\n",
        "\n",
        "b = torch.Tensor([6.8813735870195432]).double(); b.requires_grad = True\n",
        "\n",
        "n = x1*w1 + x2*w2 + b\n",
        "o = torch.tanh(n)\n",
        "\n",
        "print(o.data.item())\n",
        "o.backward()\n",
        "\n",
        "print('---')\n",
        "print('x2: ', x2.grad.item())\n",
        "print('w2: ', w2.grad.item())\n",
        "print('x1: ', x1.grad.item())\n",
        "print('w1: ', w1.grad.item())\n"
      ],
      "metadata": {
        "colab": {
          "base_uri": "https://localhost:8080/"
        },
        "id": "kv1dm3LpY5S8",
        "outputId": "b8d28c88-d628-49c7-f919-90c6eb80652f"
      },
      "execution_count": 15,
      "outputs": [
        {
          "output_type": "stream",
          "name": "stdout",
          "text": [
            "0.7071066904050358\n",
            "---\n",
            "x2:  0.5000001283844369\n",
            "w2:  0.0\n",
            "x1:  -1.5000003851533106\n",
            "w1:  1.0000002567688737\n"
          ]
        }
      ]
    },
    {
      "cell_type": "markdown",
      "source": [
        "`o.item()` and `o.data.item()` will produce the same result here in pytorch"
      ],
      "metadata": {
        "id": "G1u_zTHqfApY"
      }
    },
    {
      "cell_type": "code",
      "source": [
        "o.item()"
      ],
      "metadata": {
        "colab": {
          "base_uri": "https://localhost:8080/"
        },
        "id": "MfT9N1WoY5b2",
        "outputId": "756b4208-6006-4cb7-ccb6-2dc09ec3e2f3"
      },
      "execution_count": 16,
      "outputs": [
        {
          "output_type": "execute_result",
          "data": {
            "text/plain": [
              "0.7071066904050358"
            ]
          },
          "metadata": {},
          "execution_count": 16
        }
      ]
    },
    {
      "cell_type": "code",
      "source": [
        "x2.grad.item()"
      ],
      "metadata": {
        "colab": {
          "base_uri": "https://localhost:8080/"
        },
        "id": "0H_VRnm7Y5ip",
        "outputId": "192b789c-2d54-479b-8da8-d143db76d9ac"
      },
      "execution_count": 17,
      "outputs": [
        {
          "output_type": "execute_result",
          "data": {
            "text/plain": [
              "0.5000001283844369"
            ]
          },
          "metadata": {},
          "execution_count": 17
        }
      ]
    },
    {
      "cell_type": "markdown",
      "source": [
        "### Building neural net library (multi-layer perceptron)\n",
        "\n",
        "- neural networks are a class of mathematical expressions.\n",
        "- start with a single individual neuron"
      ],
      "metadata": {
        "id": "VJPk7NHPf8yu"
      }
    },
    {
      "cell_type": "code",
      "source": [
        "import random"
      ],
      "metadata": {
        "id": "RoXsoT9Aje_4"
      },
      "execution_count": 18,
      "outputs": []
    },
    {
      "cell_type": "code",
      "source": [
        "class Neuron:\n",
        "\n",
        "  def __init__(self, nin):  #nin: number of inputs\n",
        "    self.w = [Value(random.uniform(-1,1)) for _ in range(nin)]\n",
        "    self.b = Value(random.uniform(-1,1))\n",
        "\n",
        "  def __call__ (self, x): # w * x + b\n",
        "    act = sum((wi*xi for wi, xi in zip(self.w, x)), self.b) #raw activation\n",
        "    out = act.tanh()\n",
        "    return out\n",
        "\n",
        "    # list(zip(self.w, x)): pairs each w with corresponding x\n",
        "\n",
        "  def parameters(self):\n",
        "    return self.w + [self.b]"
      ],
      "metadata": {
        "id": "NVftnA_DfZQD"
      },
      "execution_count": 19,
      "outputs": []
    },
    {
      "cell_type": "markdown",
      "source": [
        "> add `__radd__` function in `class Value` similar to `__rmul__`"
      ],
      "metadata": {
        "id": "gn5hnqdglYFJ"
      }
    },
    {
      "cell_type": "code",
      "source": [
        "x = [2.0, 3.0]\n",
        "n = Neuron(2)\n",
        "n(x)"
      ],
      "metadata": {
        "id": "2Sg5-jL8gRwg",
        "colab": {
          "base_uri": "https://localhost:8080/"
        },
        "outputId": "e701009d-2088-4d1b-9208-eb4709438d65"
      },
      "execution_count": 20,
      "outputs": [
        {
          "output_type": "execute_result",
          "data": {
            "text/plain": [
              "Value(data=-0.8859307141289627)"
            ]
          },
          "metadata": {},
          "execution_count": 20
        }
      ]
    },
    {
      "cell_type": "code",
      "source": [
        "class Layer:\n",
        "\n",
        "  def __init__(self, nin, nout):\n",
        "    self.neurons = [Neuron(nin) for _ in range(nout)]\n",
        "\n",
        "  def __call__(self, x):\n",
        "    outs = [n(x) for n in self.neurons]\n",
        "    # return outs #return element in a list\n",
        "    return outs[0] if len(outs) == 1 else outs #return single calue at the last layer that only has a single neuron\n",
        "\n",
        "  def parameters(self):\n",
        "    # params = []\n",
        "    # for neuron in self.neurons:\n",
        "    #   ps = neuron.parameters()\n",
        "    #   params.extend(ps)\n",
        "    # return params\n",
        "    return [p for neuron in self.neurons for p in neuron.parameters()]\n"
      ],
      "metadata": {
        "id": "H1in9SWkgSBc"
      },
      "execution_count": 21,
      "outputs": []
    },
    {
      "cell_type": "code",
      "source": [
        "x = [2.0, 3.0]\n",
        "n = Layer(2, 3) #2d neurons\n",
        "n(x)"
      ],
      "metadata": {
        "id": "skz4lSrhfZcX",
        "colab": {
          "base_uri": "https://localhost:8080/"
        },
        "outputId": "5c1e9d6d-8714-4933-c15e-0edebd3cebe2"
      },
      "execution_count": 22,
      "outputs": [
        {
          "output_type": "execute_result",
          "data": {
            "text/plain": [
              "[Value(data=0.997848819207507),\n",
              " Value(data=-0.6609238615311793),\n",
              " Value(data=0.9972001279428538)]"
            ]
          },
          "metadata": {},
          "execution_count": 22
        }
      ]
    },
    {
      "cell_type": "markdown",
      "source": [
        "> Defining entire MLP (multi-layer perceptron)\n",
        "- layers feed into each other sequentially"
      ],
      "metadata": {
        "id": "dAVQE9Zvs7nv"
      }
    },
    {
      "cell_type": "code",
      "source": [
        "class MLP:\n",
        "\n",
        "  def __init__(self, nin, nouts):\n",
        "    size = [nin] + nouts\n",
        "    self.layers = [Layer(size[i], size[i+1]) for i in range(len(nouts))]\n",
        "\n",
        "  def __call__(self, x):\n",
        "    for layer in self.layers:\n",
        "      x = layer(x)\n",
        "    return x\n",
        "\n",
        "  def parameters(self):\n",
        "    return [p for layer in self.layers for p in layer.parameters()]"
      ],
      "metadata": {
        "id": "JI6OmvG-fZkV"
      },
      "execution_count": 23,
      "outputs": []
    },
    {
      "cell_type": "code",
      "source": [
        "x = [2.0, 3.0, -1.0]\n",
        "n = MLP(3, [4, 4, 1]) # 3inputs, 2layers of 4neurons, 1output\n",
        "n(x)"
      ],
      "metadata": {
        "id": "BnTYO0HrfZrx",
        "colab": {
          "base_uri": "https://localhost:8080/"
        },
        "outputId": "b4ae9d4e-14ec-4641-ae13-2e18bff61aae"
      },
      "execution_count": 24,
      "outputs": [
        {
          "output_type": "execute_result",
          "data": {
            "text/plain": [
              "Value(data=0.8772272196399606)"
            ]
          },
          "metadata": {},
          "execution_count": 24
        }
      ]
    },
    {
      "cell_type": "code",
      "source": [
        "len(n.parameters())"
      ],
      "metadata": {
        "colab": {
          "base_uri": "https://localhost:8080/"
        },
        "id": "K3Tyh6lf8IOQ",
        "outputId": "8ee854a6-5cb6-4727-f788-fbab7d5b97bb"
      },
      "execution_count": 25,
      "outputs": [
        {
          "output_type": "execute_result",
          "data": {
            "text/plain": [
              "41"
            ]
          },
          "metadata": {},
          "execution_count": 25
        }
      ]
    },
    {
      "cell_type": "code",
      "source": [
        "# draw_dot(n(x))"
      ],
      "metadata": {
        "id": "s0YSxCC8fZyK",
        "collapsed": true
      },
      "execution_count": 26,
      "outputs": []
    },
    {
      "cell_type": "markdown",
      "source": [
        "Create sample dataset\n",
        "> - 4 possible inputs into the neural net (xs)\n",
        "- 4 desired targets/outputs (ys)\n",
        "\n",
        "Make the Neural Net\n",
        "> - how to tune weights to better predict the desired targets\n",
        "- achieved through loss function\n",
        "- it calculates the total performance of the neural net\n",
        "- goal is to minimize the loss\n",
        "\n",
        "Implement MSE loss\n",
        "> `for ygt, yout in zip(ys, ypred)`\n",
        "- ygt: ground truth\n",
        "- pair ground truths with the predictions\n",
        "- `zip`iterates over their tuples\n",
        "- subtract each `yout` and `ygt` and square them\n",
        "\n",
        "\n",
        "\n",
        "\n"
      ],
      "metadata": {
        "id": "MgUevGwaxFC4"
      }
    },
    {
      "cell_type": "code",
      "source": [
        "# sample dataset\n",
        "xs = [\n",
        "    [2.0, 3.0, -1.0],\n",
        "    [3.0, -1.0, 0.5],\n",
        "    [0.5, 1.0, 1.0],\n",
        "    [1.0, 1.0, -1.0],\n",
        "]\n",
        "\n",
        "ys = [1.0, -1.0, -1.0, 1.0] # desired targets\n",
        "# ypred = [n(x) for x in xs]\n",
        "# ypred"
      ],
      "metadata": {
        "id": "-Lnpm6DZfZ5T"
      },
      "execution_count": 27,
      "outputs": []
    },
    {
      "cell_type": "code",
      "source": [
        "ypred = [n(x) for x in xs]\n",
        "ypred"
      ],
      "metadata": {
        "colab": {
          "base_uri": "https://localhost:8080/"
        },
        "id": "A0IbTwYL-xam",
        "outputId": "fb0ae11a-a869-45b1-fc6a-4527aeb3e2f9"
      },
      "execution_count": 28,
      "outputs": [
        {
          "output_type": "execute_result",
          "data": {
            "text/plain": [
              "[Value(data=0.8772272196399606),\n",
              " Value(data=0.9451443908082369),\n",
              " Value(data=0.9079855042519154),\n",
              " Value(data=0.8987694554404794)]"
            ]
          },
          "metadata": {},
          "execution_count": 28
        }
      ]
    },
    {
      "cell_type": "code",
      "source": [
        "# Implement MSE loss\n",
        "[(yout - ygt)**2 for ygt, yout in zip(ys, ypred)]"
      ],
      "metadata": {
        "id": "kFDjhubDY5pm",
        "colab": {
          "base_uri": "https://localhost:8080/"
        },
        "outputId": "50750f08-eab0-4ba8-ae9e-cc00ff4710bd"
      },
      "execution_count": 29,
      "outputs": [
        {
          "output_type": "execute_result",
          "data": {
            "text/plain": [
              "[Value(data=0.015073155597334466),\n",
              " Value(data=3.783586701092747),\n",
              " Value(data=3.6404086844354357),\n",
              " Value(data=0.010247623151817091)]"
            ]
          },
          "metadata": {},
          "execution_count": 29
        }
      ]
    },
    {
      "cell_type": "markdown",
      "source": [
        "> - for each of the 4 output, take prediction and ground truth, subtract then square them\n",
        "- squaring ensures a positive number. (absolute value can be used instead)\n",
        "- when prediction close to the target, output is close to 0"
      ],
      "metadata": {
        "id": "2nnl8twv28oG"
      }
    },
    {
      "cell_type": "code",
      "source": [
        "# Final loss\n",
        "loss = sum([(yout - ygt)**2 for ygt, yout in zip(ys, ypred)])\n",
        "loss"
      ],
      "metadata": {
        "id": "Tj5GCwvEY5xD",
        "colab": {
          "base_uri": "https://localhost:8080/"
        },
        "outputId": "2329bc4e-f276-422f-b99c-e416e9bdc324"
      },
      "execution_count": 30,
      "outputs": [
        {
          "output_type": "execute_result",
          "data": {
            "text/plain": [
              "Value(data=7.4493161642773345)"
            ]
          },
          "metadata": {},
          "execution_count": 30
        }
      ]
    },
    {
      "cell_type": "code",
      "source": [
        "loss.backward()"
      ],
      "metadata": {
        "id": "rcixVOIOWvrW"
      },
      "execution_count": 31,
      "outputs": []
    },
    {
      "cell_type": "code",
      "source": [
        "# draw_dot(loss)"
      ],
      "metadata": {
        "id": "3DoD0s0dWwWh"
      },
      "execution_count": 32,
      "outputs": []
    },
    {
      "cell_type": "markdown",
      "source": [
        "> - graph above has 4 forward passes of a neural net for every example. has the loss on top, and ends with value of loss.\n",
        "- loss backpropagates through all forward passes and intermediate values of the neural all the way to the parameters of the weights(inputs)\n",
        "- gradients on input data are not useful as they are fixed. is not changed.\n"
      ],
      "metadata": {
        "id": "uMEbEn0t4Tq1"
      }
    },
    {
      "cell_type": "markdown",
      "source": [
        "### Modify Parameters to minimize loss\n",
        "\n",
        "> - the weight and bias parameters can be changed\n",
        "  - create `__parameters__` function to collect them\n",
        "- negative grad = negative influence on loss.\n",
        "- Slight increase in weight of this neuron in this layer minimizes the loss\n",
        "  - `n.layers[0].neurons[0].w[0].grad`\n",
        "  - `n.layers[0].neurons[0].w[0].data`\n",
        "- Gradiesnt descent: forward pass>backward pass>update\n"
      ],
      "metadata": {
        "id": "3HLxrtY-C14Z"
      }
    },
    {
      "cell_type": "code",
      "source": [
        "# Verify change on loss\n",
        "ypred = [n(x) for x in xs]\n",
        "loss = sum([(yout - ygt)**2 for ygt, yout in zip(ys, ypred)])\n",
        "loss"
      ],
      "metadata": {
        "colab": {
          "base_uri": "https://localhost:8080/"
        },
        "id": "_ef2gb3xCfwK",
        "outputId": "a6801126-8bf9-4630-b2e5-c594e2c712f8"
      },
      "execution_count": 33,
      "outputs": [
        {
          "output_type": "execute_result",
          "data": {
            "text/plain": [
              "Value(data=7.4493161642773345)"
            ]
          },
          "metadata": {},
          "execution_count": 33
        }
      ]
    },
    {
      "cell_type": "code",
      "source": [
        "loss.backward()"
      ],
      "metadata": {
        "id": "hj2sovDoDeSU"
      },
      "execution_count": 34,
      "outputs": []
    },
    {
      "cell_type": "code",
      "source": [
        "# Modify parameters to minimize loss\n",
        "for p in n.parameters():\n",
        "  p.data += -0.01 * p.grad"
      ],
      "metadata": {
        "id": "da49tVip4PKe"
      },
      "execution_count": 35,
      "outputs": []
    },
    {
      "cell_type": "code",
      "source": [
        "ypred"
      ],
      "metadata": {
        "colab": {
          "base_uri": "https://localhost:8080/"
        },
        "id": "PSXQbFD14PZY",
        "outputId": "86c231cd-27c8-4055-b597-4aad2f15c137"
      },
      "execution_count": 36,
      "outputs": [
        {
          "output_type": "execute_result",
          "data": {
            "text/plain": [
              "[Value(data=0.8772272196399606),\n",
              " Value(data=0.9451443908082369),\n",
              " Value(data=0.9079855042519154),\n",
              " Value(data=0.8987694554404794)]"
            ]
          },
          "metadata": {},
          "execution_count": 36
        }
      ]
    },
    {
      "cell_type": "markdown",
      "source": [
        "### Implement Training Loop"
      ],
      "metadata": {
        "id": "ZouH1ThyGYgl"
      }
    },
    {
      "cell_type": "code",
      "source": [
        "# Reset neural net\n",
        "\n",
        "x = [2.0, 3.0, -1.0]\n",
        "n = MLP(3, [4, 4, 1]) # 3inputs, 2layers of 4neurons, 1output\n",
        "n(x)"
      ],
      "metadata": {
        "colab": {
          "base_uri": "https://localhost:8080/"
        },
        "id": "_-hb1PQBG2GO",
        "outputId": "5000a0a4-a16d-4130-c1b6-c6d3ae2275e6"
      },
      "execution_count": 37,
      "outputs": [
        {
          "output_type": "execute_result",
          "data": {
            "text/plain": [
              "Value(data=-0.5885606196119877)"
            ]
          },
          "metadata": {},
          "execution_count": 37
        }
      ]
    },
    {
      "cell_type": "code",
      "source": [
        "xs = [\n",
        "    [2.0, 3.0, -1.0],\n",
        "    [3.0, -1.0, 0.5],\n",
        "    [0.5, 1.0, 1.0],\n",
        "    [1.0, 1.0, -1.0],\n",
        "]\n",
        "\n",
        "ys = [1.0, -1.0, -1.0, 1.0] # desired targets\n",
        "# ypred = [n(x) for x in xs]\n",
        "# ypred"
      ],
      "metadata": {
        "id": "nHpGtStqHDDz"
      },
      "execution_count": 38,
      "outputs": []
    },
    {
      "cell_type": "code",
      "source": [
        "for k in range(20):\n",
        "  # forward pass\n",
        "  ypred = [n(x) for x in xs]\n",
        "  loss = sum([(yout - ygt)**2 for ygt, yout in zip(ys, ypred)])\n",
        "\n",
        "  # backward pass:\n",
        "  for p in n.parameters():\n",
        "    p.grad = 0.0\n",
        "  loss.backward()\n",
        "\n",
        "  # update\n",
        "  for p in n.parameters():\n",
        "    p.data += -0.05 * p.grad\n",
        "\n",
        "  print(k, loss.data)"
      ],
      "metadata": {
        "colab": {
          "base_uri": "https://localhost:8080/"
        },
        "id": "0JZHx1Xa4Pfw",
        "outputId": "99528dd1-98da-490f-e8f2-00e3df0f5020"
      },
      "execution_count": 42,
      "outputs": [
        {
          "output_type": "stream",
          "name": "stdout",
          "text": [
            "0 0.5054894400708304\n",
            "1 0.465908765165315\n",
            "2 0.4347341022344972\n",
            "3 0.3875793399008766\n",
            "4 0.36918335647828865\n",
            "5 0.3324490197747686\n",
            "6 0.3137176515179921\n",
            "7 0.2911570735647423\n",
            "8 0.2741907197123754\n",
            "9 0.25946009616016963\n",
            "10 0.24231515443087492\n",
            "11 0.23226505861137914\n",
            "12 0.21774383604422476\n",
            "13 0.20901244922695408\n",
            "14 0.1998187779158809\n",
            "15 0.1891284881974864\n",
            "16 0.18218044765083916\n",
            "17 0.17504984234182552\n",
            "18 0.1671847963365865\n",
            "19 0.1609297846964787\n"
          ]
        }
      ]
    },
    {
      "cell_type": "code",
      "source": [
        "ypred"
      ],
      "metadata": {
        "colab": {
          "base_uri": "https://localhost:8080/"
        },
        "id": "Gf7pneOR4Pm-",
        "outputId": "04bf81bb-6360-4fa1-d861-cef9f780980c"
      },
      "execution_count": 40,
      "outputs": [
        {
          "output_type": "execute_result",
          "data": {
            "text/plain": [
              "[Value(data=-0.11182998582995972),\n",
              " Value(data=-0.12089364119720722),\n",
              " Value(data=-0.45817318623764425),\n",
              " Value(data=-0.1331090547971834)]"
            ]
          },
          "metadata": {},
          "execution_count": 40
        }
      ]
    },
    {
      "cell_type": "code",
      "source": [],
      "metadata": {
        "id": "8rxBMHkO4PtN"
      },
      "execution_count": 40,
      "outputs": []
    },
    {
      "cell_type": "code",
      "source": [],
      "metadata": {
        "id": "ygRn1G0o4Pzt"
      },
      "execution_count": 40,
      "outputs": []
    },
    {
      "cell_type": "code",
      "source": [],
      "metadata": {
        "id": "8JHSNX5w4P8w"
      },
      "execution_count": 40,
      "outputs": []
    }
  ]
}